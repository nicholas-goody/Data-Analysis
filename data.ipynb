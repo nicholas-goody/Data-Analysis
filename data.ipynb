{
 "cells": [
  {
   "cell_type": "code",
   "execution_count": null,
   "id": "448b50c1",
   "metadata": {},
   "outputs": [
    {
     "ename": "",
     "evalue": "",
     "output_type": "error",
     "traceback": [
      "\u001b[1;31mThe kernel failed to start as the Python Environment 'opencv-env (Python -1.-1.-1)' is no longer available. Consider selecting another kernel or refreshing the list of Python Environments."
     ]
    }
   ],
   "source": [
    "import seaborn as sb\n",
    "import pandas as pd\n",
    "import numpy as np\n",
    "import matplotlib.pyplot as plt\n",
    "\n",
    "\n",
    "df = pd.read_csv(\"all_recs.csv\", encoding = 'unicode_escape')\n",
    "df.tail()"
   ]
  },
  {
   "cell_type": "code",
   "execution_count": null,
   "id": "05be4839",
   "metadata": {},
   "outputs": [],
   "source": [
    "year_order = df['Year'].value_counts().index\n",
    "location_order = df['Location'].value_counts().index\n",
    "motive_order = df['Motive'].value_counts().index\n",
    "industry_order = df['Industry'].value_counts().index\n"
   ]
  },
  {
   "cell_type": "code",
   "execution_count": null,
   "id": "6a0c1b3d",
   "metadata": {},
   "outputs": [],
   "source": [
    "df.describe()"
   ]
  },
  {
   "cell_type": "code",
   "execution_count": null,
   "id": "9d803ce7",
   "metadata": {},
   "outputs": [],
   "source": [
    "df.info()"
   ]
  },
  {
   "cell_type": "code",
   "execution_count": null,
   "id": "a07b9382",
   "metadata": {},
   "outputs": [],
   "source": [
    "\n",
    "base_color = 'blue'  \n",
    "\n",
    "plt.figure(figsize=(20,8))\n",
    "plt.title(\"Attack Frequency by year\")\n",
    "sb.countplot(data=df, y='Year', color=base_color, order=year_order)\n",
    "plt.xticks(rotation=45); "
   ]
  },
  {
   "cell_type": "code",
   "execution_count": null,
   "id": "0acf7b66",
   "metadata": {},
   "outputs": [],
   "source": [
    "\n",
    "plt.figure(figsize=(10,6))\n",
    "plt.title(\"Attack Frequency by year\")\n",
    "sb.countplot(data=df, y= 'Industry'color=base_color,order=year_order)\n",
    "plt.xtickz(rotation=15);"
   ]
  }
 ],
 "metadata": {
  "kernelspec": {
   "display_name": "opencv-env",
   "language": "python",
   "name": "python3"
  },
  "language_info": {
   "name": "python",
   "version": "-1.-1.-1"
  }
 },
 "nbformat": 4,
 "nbformat_minor": 5
}
